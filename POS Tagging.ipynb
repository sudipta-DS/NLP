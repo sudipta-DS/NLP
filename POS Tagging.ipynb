{
 "cells": [
  {
   "cell_type": "code",
   "execution_count": 1,
   "id": "69f3b0fc",
   "metadata": {},
   "outputs": [],
   "source": [
    "import spacy"
   ]
  },
  {
   "cell_type": "code",
   "execution_count": 2,
   "id": "37fddd66",
   "metadata": {},
   "outputs": [],
   "source": [
    "nlp = spacy.load('en_core_web_sm')"
   ]
  },
  {
   "cell_type": "code",
   "execution_count": 4,
   "id": "8d819e0a",
   "metadata": {},
   "outputs": [],
   "source": [
    "doc = nlp('I will google about Facebook')"
   ]
  },
  {
   "cell_type": "code",
   "execution_count": 5,
   "id": "bbe0d462",
   "metadata": {},
   "outputs": [
    {
     "data": {
      "text/plain": [
       "'I will google about Facebook'"
      ]
     },
     "execution_count": 5,
     "metadata": {},
     "output_type": "execute_result"
    }
   ],
   "source": [
    "doc.text"
   ]
  },
  {
   "cell_type": "code",
   "execution_count": 6,
   "id": "2ea37296",
   "metadata": {},
   "outputs": [
    {
     "data": {
      "text/plain": [
       "'PRP'"
      ]
     },
     "execution_count": 6,
     "metadata": {},
     "output_type": "execute_result"
    }
   ],
   "source": [
    "doc[0].tag_"
   ]
  },
  {
   "cell_type": "code",
   "execution_count": 7,
   "id": "381a17c9",
   "metadata": {},
   "outputs": [
    {
     "data": {
      "text/plain": [
       "'pronoun, personal'"
      ]
     },
     "execution_count": 7,
     "metadata": {},
     "output_type": "execute_result"
    }
   ],
   "source": [
    "spacy.explain(doc[0].tag_)"
   ]
  },
  {
   "cell_type": "code",
   "execution_count": 8,
   "id": "d6a18c70",
   "metadata": {},
   "outputs": [
    {
     "data": {
      "text/plain": [
       "'AUX'"
      ]
     },
     "execution_count": 8,
     "metadata": {},
     "output_type": "execute_result"
    }
   ],
   "source": [
    "doc[1].pos_"
   ]
  },
  {
   "cell_type": "code",
   "execution_count": 9,
   "id": "2df8756c",
   "metadata": {},
   "outputs": [
    {
     "data": {
      "text/plain": [
       "'auxiliary'"
      ]
     },
     "execution_count": 9,
     "metadata": {},
     "output_type": "execute_result"
    }
   ],
   "source": [
    "spacy.explain(doc[1].pos_)"
   ]
  },
  {
   "cell_type": "code",
   "execution_count": 14,
   "id": "a35e4231",
   "metadata": {},
   "outputs": [
    {
     "name": "stdout",
     "output_type": "stream",
     "text": [
      "I ===> PRON PRP pronoun, personal\n",
      "will ===> AUX MD verb, modal auxiliary\n",
      "google ===> VERB VB verb, base form\n",
      "about ===> ADP IN conjunction, subordinating or preposition\n",
      "Facebook ===> PROPN NNP noun, proper singular\n"
     ]
    }
   ],
   "source": [
    "for i in doc :\n",
    "    print(i.text,\"===>\",i.pos_,i.tag_,spacy.explain(i.tag_))"
   ]
  },
  {
   "cell_type": "code",
   "execution_count": null,
   "id": "3665182a",
   "metadata": {},
   "outputs": [],
   "source": []
  }
 ],
 "metadata": {
  "kernelspec": {
   "display_name": "Python 3 (ipykernel)",
   "language": "python",
   "name": "python3"
  },
  "language_info": {
   "codemirror_mode": {
    "name": "ipython",
    "version": 3
   },
   "file_extension": ".py",
   "mimetype": "text/x-python",
   "name": "python",
   "nbconvert_exporter": "python",
   "pygments_lexer": "ipython3",
   "version": "3.9.7"
  }
 },
 "nbformat": 4,
 "nbformat_minor": 5
}
