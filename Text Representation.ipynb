{
 "cells": [
  {
   "cell_type": "code",
   "execution_count": 13,
   "id": "1bd6cd9f",
   "metadata": {},
   "outputs": [],
   "source": [
    "### Bag Of Words\n",
    "import numpy as np\n",
    "import pandas as pd\n",
    "from sklearn.feature_extraction.text import CountVectorizer\n",
    "cv = CountVectorizer()"
   ]
  },
  {
   "cell_type": "code",
   "execution_count": 14,
   "id": "69457576",
   "metadata": {},
   "outputs": [],
   "source": [
    "data = {'Review':['Movie was good','Movie was not good','Movie was bad'],'Sentiment':['Positive','Negative','Negative']}"
   ]
  },
  {
   "cell_type": "code",
   "execution_count": 15,
   "id": "8acf18f2",
   "metadata": {},
   "outputs": [],
   "source": [
    "df = pd.DataFrame(data=data)"
   ]
  },
  {
   "cell_type": "code",
   "execution_count": 16,
   "id": "e12c5a32",
   "metadata": {},
   "outputs": [
    {
     "data": {
      "text/html": [
       "<div>\n",
       "<style scoped>\n",
       "    .dataframe tbody tr th:only-of-type {\n",
       "        vertical-align: middle;\n",
       "    }\n",
       "\n",
       "    .dataframe tbody tr th {\n",
       "        vertical-align: top;\n",
       "    }\n",
       "\n",
       "    .dataframe thead th {\n",
       "        text-align: right;\n",
       "    }\n",
       "</style>\n",
       "<table border=\"1\" class=\"dataframe\">\n",
       "  <thead>\n",
       "    <tr style=\"text-align: right;\">\n",
       "      <th></th>\n",
       "      <th>Review</th>\n",
       "      <th>Sentiment</th>\n",
       "    </tr>\n",
       "  </thead>\n",
       "  <tbody>\n",
       "    <tr>\n",
       "      <th>0</th>\n",
       "      <td>Movie was good</td>\n",
       "      <td>Positive</td>\n",
       "    </tr>\n",
       "    <tr>\n",
       "      <th>1</th>\n",
       "      <td>Movie was not good</td>\n",
       "      <td>Negative</td>\n",
       "    </tr>\n",
       "    <tr>\n",
       "      <th>2</th>\n",
       "      <td>Movie was bad</td>\n",
       "      <td>Negative</td>\n",
       "    </tr>\n",
       "  </tbody>\n",
       "</table>\n",
       "</div>"
      ],
      "text/plain": [
       "               Review Sentiment\n",
       "0      Movie was good  Positive\n",
       "1  Movie was not good  Negative\n",
       "2       Movie was bad  Negative"
      ]
     },
     "execution_count": 16,
     "metadata": {},
     "output_type": "execute_result"
    }
   ],
   "source": [
    "df"
   ]
  },
  {
   "cell_type": "code",
   "execution_count": 17,
   "id": "55757ca9",
   "metadata": {},
   "outputs": [],
   "source": [
    "vec = cv.fit_transform(df['Review'])"
   ]
  },
  {
   "cell_type": "code",
   "execution_count": 18,
   "id": "e8df6b55",
   "metadata": {},
   "outputs": [
    {
     "data": {
      "text/plain": [
       "{'movie': 2, 'was': 4, 'good': 1, 'not': 3, 'bad': 0}"
      ]
     },
     "execution_count": 18,
     "metadata": {},
     "output_type": "execute_result"
    }
   ],
   "source": [
    "cv.vocabulary_"
   ]
  },
  {
   "cell_type": "code",
   "execution_count": 20,
   "id": "974e101a",
   "metadata": {},
   "outputs": [
    {
     "data": {
      "text/plain": [
       "array([[0, 1, 1, 0, 1]], dtype=int64)"
      ]
     },
     "execution_count": 20,
     "metadata": {},
     "output_type": "execute_result"
    }
   ],
   "source": [
    "vec[0].toarray()"
   ]
  },
  {
   "cell_type": "code",
   "execution_count": 21,
   "id": "5666b97c",
   "metadata": {},
   "outputs": [],
   "source": [
    "## Bag Of N-grams Approach\n",
    "cv1 = CountVectorizer(ngram_range=(2,2))"
   ]
  },
  {
   "cell_type": "code",
   "execution_count": 22,
   "id": "3be18e48",
   "metadata": {},
   "outputs": [],
   "source": [
    "vec = cv1.fit_transform(df['Review'])"
   ]
  },
  {
   "cell_type": "code",
   "execution_count": 23,
   "id": "b018fb7b",
   "metadata": {},
   "outputs": [
    {
     "data": {
      "text/plain": [
       "{'movie was': 0, 'was good': 3, 'was not': 4, 'not good': 1, 'was bad': 2}"
      ]
     },
     "execution_count": 23,
     "metadata": {},
     "output_type": "execute_result"
    }
   ],
   "source": [
    "cv1.vocabulary_"
   ]
  },
  {
   "cell_type": "code",
   "execution_count": 25,
   "id": "30ee2cc4",
   "metadata": {},
   "outputs": [
    {
     "data": {
      "text/plain": [
       "array([[1, 0, 0, 1, 0],\n",
       "       [1, 1, 0, 0, 1],\n",
       "       [1, 0, 1, 0, 0]], dtype=int64)"
      ]
     },
     "execution_count": 25,
     "metadata": {},
     "output_type": "execute_result"
    }
   ],
   "source": [
    "vec.toarray()"
   ]
  },
  {
   "cell_type": "code",
   "execution_count": 27,
   "id": "5377d757",
   "metadata": {},
   "outputs": [],
   "source": [
    "## Term Frequency- Inverse Document Frequency (TF-IDF) Approach\n",
    "from sklearn.feature_extraction.text import TfidfVectorizer\n",
    "tf_idf = TfidfVectorizer()"
   ]
  },
  {
   "cell_type": "code",
   "execution_count": 28,
   "id": "1cc1e8a3",
   "metadata": {},
   "outputs": [
    {
     "data": {
      "text/plain": [
       "array([[0.        , 0.67325467, 0.52284231, 0.        , 0.52284231],\n",
       "       [0.        , 0.50410689, 0.39148397, 0.66283998, 0.39148397],\n",
       "       [0.76749457, 0.        , 0.45329466, 0.        , 0.45329466]])"
      ]
     },
     "execution_count": 28,
     "metadata": {},
     "output_type": "execute_result"
    }
   ],
   "source": [
    "tf_idf.fit_transform(df['Review']).toarray()"
   ]
  },
  {
   "cell_type": "code",
   "execution_count": 29,
   "id": "b6b7badc",
   "metadata": {},
   "outputs": [
    {
     "data": {
      "text/plain": [
       "array([1.69314718, 1.28768207, 1.        , 1.69314718, 1.        ])"
      ]
     },
     "execution_count": 29,
     "metadata": {},
     "output_type": "execute_result"
    }
   ],
   "source": [
    "tf_idf.idf_"
   ]
  },
  {
   "cell_type": "code",
   "execution_count": 36,
   "id": "8a5bb8e6",
   "metadata": {},
   "outputs": [
    {
     "data": {
      "text/plain": [
       "{'movie': 2, 'was': 4, 'good': 1, 'not': 3, 'bad': 0}"
      ]
     },
     "execution_count": 36,
     "metadata": {},
     "output_type": "execute_result"
    }
   ],
   "source": [
    "tf_idf.vocabulary_"
   ]
  },
  {
   "cell_type": "code",
   "execution_count": null,
   "id": "ee8116db",
   "metadata": {},
   "outputs": [],
   "source": []
  }
 ],
 "metadata": {
  "kernelspec": {
   "display_name": "Python 3 (ipykernel)",
   "language": "python",
   "name": "python3"
  },
  "language_info": {
   "codemirror_mode": {
    "name": "ipython",
    "version": 3
   },
   "file_extension": ".py",
   "mimetype": "text/x-python",
   "name": "python",
   "nbconvert_exporter": "python",
   "pygments_lexer": "ipython3",
   "version": "3.9.7"
  }
 },
 "nbformat": 4,
 "nbformat_minor": 5
}
