{
 "cells": [
  {
   "cell_type": "code",
   "execution_count": 1,
   "id": "1cc981f7",
   "metadata": {},
   "outputs": [],
   "source": [
    "import numpy as np\n",
    "import pandas as pd\n",
    "import matplotlib.pyplot as plt\n",
    "import seaborn as sns"
   ]
  },
  {
   "cell_type": "code",
   "execution_count": 2,
   "id": "af3176ae",
   "metadata": {},
   "outputs": [],
   "source": [
    "data = pd.read_csv('./IMDB Dataset.csv')"
   ]
  },
  {
   "cell_type": "code",
   "execution_count": 3,
   "id": "899dfd13",
   "metadata": {},
   "outputs": [
    {
     "data": {
      "text/html": [
       "<div>\n",
       "<style scoped>\n",
       "    .dataframe tbody tr th:only-of-type {\n",
       "        vertical-align: middle;\n",
       "    }\n",
       "\n",
       "    .dataframe tbody tr th {\n",
       "        vertical-align: top;\n",
       "    }\n",
       "\n",
       "    .dataframe thead th {\n",
       "        text-align: right;\n",
       "    }\n",
       "</style>\n",
       "<table border=\"1\" class=\"dataframe\">\n",
       "  <thead>\n",
       "    <tr style=\"text-align: right;\">\n",
       "      <th></th>\n",
       "      <th>review</th>\n",
       "      <th>sentiment</th>\n",
       "    </tr>\n",
       "  </thead>\n",
       "  <tbody>\n",
       "    <tr>\n",
       "      <th>0</th>\n",
       "      <td>One of the other reviewers has mentioned that ...</td>\n",
       "      <td>positive</td>\n",
       "    </tr>\n",
       "    <tr>\n",
       "      <th>1</th>\n",
       "      <td>A wonderful little production. &lt;br /&gt;&lt;br /&gt;The...</td>\n",
       "      <td>positive</td>\n",
       "    </tr>\n",
       "    <tr>\n",
       "      <th>2</th>\n",
       "      <td>I thought this was a wonderful way to spend ti...</td>\n",
       "      <td>positive</td>\n",
       "    </tr>\n",
       "    <tr>\n",
       "      <th>3</th>\n",
       "      <td>Basically there's a family where a little boy ...</td>\n",
       "      <td>negative</td>\n",
       "    </tr>\n",
       "    <tr>\n",
       "      <th>4</th>\n",
       "      <td>Petter Mattei's \"Love in the Time of Money\" is...</td>\n",
       "      <td>positive</td>\n",
       "    </tr>\n",
       "  </tbody>\n",
       "</table>\n",
       "</div>"
      ],
      "text/plain": [
       "                                              review sentiment\n",
       "0  One of the other reviewers has mentioned that ...  positive\n",
       "1  A wonderful little production. <br /><br />The...  positive\n",
       "2  I thought this was a wonderful way to spend ti...  positive\n",
       "3  Basically there's a family where a little boy ...  negative\n",
       "4  Petter Mattei's \"Love in the Time of Money\" is...  positive"
      ]
     },
     "execution_count": 3,
     "metadata": {},
     "output_type": "execute_result"
    }
   ],
   "source": [
    "data.head()"
   ]
  },
  {
   "cell_type": "code",
   "execution_count": 4,
   "id": "c238ca97",
   "metadata": {},
   "outputs": [],
   "source": [
    "## Lowercasing\n",
    "data['review'] = data['review'].str.lower()"
   ]
  },
  {
   "cell_type": "code",
   "execution_count": 7,
   "id": "27982d93",
   "metadata": {},
   "outputs": [],
   "source": [
    "## Removing HTML tags\n",
    "import re\n",
    "def remove_html_tags(text):\n",
    "    pattern = re.compile('<.*?>')\n",
    "    return pattern.sub('',text)"
   ]
  },
  {
   "cell_type": "code",
   "execution_count": 8,
   "id": "460eade7",
   "metadata": {},
   "outputs": [
    {
     "data": {
      "text/plain": [
       "'My First Heading'"
      ]
     },
     "execution_count": 8,
     "metadata": {},
     "output_type": "execute_result"
    }
   ],
   "source": [
    "line = '<h1>My First Heading</h1>'\n",
    "remove_html_tags(line)"
   ]
  },
  {
   "cell_type": "code",
   "execution_count": 9,
   "id": "bfa1f7f5",
   "metadata": {},
   "outputs": [],
   "source": [
    "### Removing URLs\n",
    "def remove_urls(text):\n",
    "    pattern = re.compile('https?://\\S+|www\\.\\S+')\n",
    "    return pattern.sub('',text)"
   ]
  },
  {
   "cell_type": "code",
   "execution_count": 10,
   "id": "57aa684c",
   "metadata": {},
   "outputs": [
    {
     "data": {
      "text/plain": [
       "''"
      ]
     },
     "execution_count": 10,
     "metadata": {},
     "output_type": "execute_result"
    }
   ],
   "source": [
    "line2 = 'http://www.lonelyplanet.com'\n",
    "remove_urls(line2)"
   ]
  },
  {
   "cell_type": "code",
   "execution_count": 15,
   "id": "edd1880b",
   "metadata": {},
   "outputs": [],
   "source": [
    "## Removing Punctuation\n",
    "import string\n",
    "punc = string.punctuation"
   ]
  },
  {
   "cell_type": "code",
   "execution_count": 16,
   "id": "a3677cbd",
   "metadata": {},
   "outputs": [],
   "source": [
    "def remove_punctuation(text):\n",
    "    return text.translate(str.maketrans('','',punc))"
   ]
  },
  {
   "cell_type": "code",
   "execution_count": 18,
   "id": "6ea4388d",
   "metadata": {},
   "outputs": [],
   "source": [
    "data['review'] = data['review'].apply(remove_punctuation)"
   ]
  },
  {
   "cell_type": "code",
   "execution_count": 19,
   "id": "5e05bf82",
   "metadata": {},
   "outputs": [],
   "source": [
    "## Chat words Removal\n",
    "chat_words = {'AFAIK':'As Far As I Know',\n",
    "'AFK':'Away From Keyboard',\n",
    "'ASAP':'As Soon As Possible',\n",
    "'ATK':'At The Keyboard',\n",
    "'ATM':'At The Moment',\n",
    "'A3':'Anytime, Anywhere, Anyplace',\n",
    "'BAK':'Back At Keyboard',\n",
    "'BBL':'Be Back Later'}"
   ]
  },
  {
   "cell_type": "code",
   "execution_count": 22,
   "id": "80db72dc",
   "metadata": {},
   "outputs": [],
   "source": [
    "def remove_chat_words(text):\n",
    "    new_text = []\n",
    "    txt = text.split()\n",
    "    for i in txt :\n",
    "        if i.upper() in chat_words:\n",
    "            new_text.append(chat_words[i.upper()])\n",
    "        else:\n",
    "            new_text.append(i)\n",
    "    return \" \".join(new_text)"
   ]
  },
  {
   "cell_type": "code",
   "execution_count": 23,
   "id": "62d8a184",
   "metadata": {},
   "outputs": [
    {
     "data": {
      "text/plain": [
       "\"At The Moment it's impossible for me.\""
      ]
     },
     "execution_count": 23,
     "metadata": {},
     "output_type": "execute_result"
    }
   ],
   "source": [
    "sent = \"ATM it's impossible for me. \"\n",
    "remove_chat_words(sent)"
   ]
  },
  {
   "cell_type": "code",
   "execution_count": 29,
   "id": "c9f347b5",
   "metadata": {},
   "outputs": [],
   "source": [
    "## spell checking\n",
    "from textblob import TextBlob\n",
    "error_sent = 'we are the beest'\n",
    "\n",
    "correct = TextBlob(error_sent).correct().string"
   ]
  },
  {
   "cell_type": "code",
   "execution_count": 30,
   "id": "2408a0f8",
   "metadata": {},
   "outputs": [
    {
     "data": {
      "text/plain": [
       "'we are the best'"
      ]
     },
     "execution_count": 30,
     "metadata": {},
     "output_type": "execute_result"
    }
   ],
   "source": [
    "correct"
   ]
  },
  {
   "cell_type": "code",
   "execution_count": 39,
   "id": "65b1643f",
   "metadata": {},
   "outputs": [],
   "source": [
    "## Removing Stopwords\n",
    "from nltk.corpus import stopwords\n",
    "stop_words = stopwords.words('english')\n",
    "\n",
    "def remove_stop_words(text):\n",
    "    new_text = []\n",
    "    for word in text.split():\n",
    "        if word in stop_words:\n",
    "            new_text.append('')\n",
    "        else :\n",
    "            new_text.append(word)\n",
    "    return \" \".join(new_text)"
   ]
  },
  {
   "cell_type": "code",
   "execution_count": 40,
   "id": "d09b9932",
   "metadata": {},
   "outputs": [
    {
     "data": {
      "text/plain": [
       "'I  going  buy brand new laptop tomorrow.'"
      ]
     },
     "execution_count": 40,
     "metadata": {},
     "output_type": "execute_result"
    }
   ],
   "source": [
    "sentence = 'I am going to buy brand new laptop tomorrow.'\n",
    "remove_stop_words(sentence)"
   ]
  },
  {
   "cell_type": "code",
   "execution_count": 43,
   "id": "f5488263",
   "metadata": {},
   "outputs": [
    {
     "name": "stdout",
     "output_type": "stream",
     "text": [
      "Finally we won:face_with_tears_of_joy:\n"
     ]
    }
   ],
   "source": [
    "## Removing Emojis\n",
    "import emoji\n",
    "print(emoji.demojize('Finally we won😂'))"
   ]
  },
  {
   "cell_type": "code",
   "execution_count": 46,
   "id": "c21c5272",
   "metadata": {},
   "outputs": [
    {
     "data": {
      "text/plain": [
       "['I', \"can'nt\", 'run']"
      ]
     },
     "execution_count": 46,
     "metadata": {},
     "output_type": "execute_result"
    }
   ],
   "source": [
    "## Tokenization\n",
    "from nltk.tokenize import word_tokenize,sent_tokenize\n",
    "sent2 = \"I can'nt run\"\n",
    "word_tokenize(sent2)"
   ]
  },
  {
   "cell_type": "code",
   "execution_count": 57,
   "id": "877e0a0c",
   "metadata": {},
   "outputs": [
    {
     "name": "stdout",
     "output_type": "stream",
     "text": [
      "I\n",
      "am\n",
      "a\n",
      "Data\n",
      "Science\n",
      "Enthusiast\n",
      ".\n"
     ]
    }
   ],
   "source": [
    "import spacy\n",
    "nlp = spacy.load('en_core_web_sm')\n",
    "sent3 = 'I am a Data Science Enthusiast.'\n",
    "doc = nlp(sent3)\n",
    "\n",
    "for i in doc:\n",
    "    print(i)"
   ]
  },
  {
   "cell_type": "code",
   "execution_count": 63,
   "id": "1b695e65",
   "metadata": {},
   "outputs": [],
   "source": [
    "## Stemming\n",
    "from nltk.stem.porter import PorterStemmer\n",
    "ps = PorterStemmer()\n",
    "\n",
    "\n",
    "def stem_words(text):\n",
    "    new_lst = []\n",
    "    for i in text.split():\n",
    "        new_lst.append(ps.stem(i))\n",
    "    return \" \".join(new_lst)\n",
    "snt = 'I am going for a walk.'"
   ]
  },
  {
   "cell_type": "code",
   "execution_count": 64,
   "id": "e1f1f591",
   "metadata": {},
   "outputs": [
    {
     "data": {
      "text/plain": [
       "'i am go for a walk.'"
      ]
     },
     "execution_count": 64,
     "metadata": {},
     "output_type": "execute_result"
    }
   ],
   "source": [
    "snt = 'I am going for a walk.'\n",
    "stem_words(snt)"
   ]
  },
  {
   "cell_type": "code",
   "execution_count": 72,
   "id": "0bf40e50",
   "metadata": {},
   "outputs": [],
   "source": [
    "## Lemmatization\n",
    "from nltk.stem.wordnet import WordNetLemmatizer\n",
    "def Lammitizer(text):\n",
    "    wl = WordNetLemmatizer()\n",
    "    new_txt = []\n",
    "    for i in text.split():\n",
    "        new_txt.append(wl.lemmatize(i,pos='v'))\n",
    "    return \" \".join(new_txt)\n"
   ]
  },
  {
   "cell_type": "code",
   "execution_count": 73,
   "id": "c4d6ff87",
   "metadata": {},
   "outputs": [
    {
     "data": {
      "text/plain": [
       "'I be go for a walk.'"
      ]
     },
     "execution_count": 73,
     "metadata": {},
     "output_type": "execute_result"
    }
   ],
   "source": [
    "Lammitizer(snt)"
   ]
  },
  {
   "cell_type": "code",
   "execution_count": null,
   "id": "3387a6ae",
   "metadata": {},
   "outputs": [],
   "source": []
  }
 ],
 "metadata": {
  "kernelspec": {
   "display_name": "Python 3 (ipykernel)",
   "language": "python",
   "name": "python3"
  },
  "language_info": {
   "codemirror_mode": {
    "name": "ipython",
    "version": 3
   },
   "file_extension": ".py",
   "mimetype": "text/x-python",
   "name": "python",
   "nbconvert_exporter": "python",
   "pygments_lexer": "ipython3",
   "version": "3.9.7"
  }
 },
 "nbformat": 4,
 "nbformat_minor": 5
}
